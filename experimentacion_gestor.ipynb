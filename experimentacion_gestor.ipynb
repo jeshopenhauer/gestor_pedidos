{
 "cells": [
  {
   "cell_type": "markdown",
   "id": "6e88e71f",
   "metadata": {},
   "source": [
    "# Gestor de Pedidos - Experimentación Interactiva\n",
    "\n",
    "Este notebook te permite trabajar con las clases del sistema de gestión de pedidos de forma interactiva, sin necesidad de modificar el archivo `main.py`.\n",
    "\n",
    "## 1. Importar el Sistema de Gestión de Pedidos\n",
    "\n",
    "Primero importamos todas las clases necesarias desde el archivo principal."
   ]
  },
  {
   "cell_type": "code",
   "execution_count": 9,
   "id": "1ef26731",
   "metadata": {},
   "outputs": [
    {
     "name": "stdout",
     "output_type": "stream",
     "text": [
      "✅ Clases importadas correctamente!\n",
      "Clases disponibles:\n",
      "- Pieza: Para representar piezas individuales\n",
      "- ItemOferta: Para piezas dentro de ofertas con precio\n",
      "- Oferta: Para gestionar ofertas de proveedores\n",
      "- Eproc: Para solicitudes de pedido\n",
      "- Bulto: Para agrupar piezas en bultos\n",
      "- Paquete: Para agrupar bultos con packing list\n",
      "- Tar: Para formularios de logística\n",
      "- Etiqueta: Para etiquetas de envío\n"
     ]
    }
   ],
   "source": [
    "# Importar todas las clases del sistema de gestión de pedidos\n",
    "import importlib\n",
    "import sys\n",
    "from datetime import date  # Importar date explícitamente para evitar errores\n",
    "\n",
    "# Recargar el módulo main si ya estaba importado\n",
    "if 'main' in sys.modules:\n",
    "    importlib.reload(sys.modules['main'])\n",
    "\n",
    "from main import Pieza, ItemOferta, Oferta, Eproc, Bulto, Paquete, Tar, Etiqueta\n",
    "\n",
    "print(\"✅ Clases importadas correctamente!\")\n",
    "print(\"Clases disponibles:\")\n",
    "print(\"- Pieza: Para representar piezas individuales\")\n",
    "print(\"- ItemOferta: Para piezas dentro de ofertas con precio\")\n",
    "print(\"- Oferta: Para gestionar ofertas de proveedores\")\n",
    "print(\"- Eproc: Para solicitudes de pedido\")\n",
    "print(\"- Bulto: Para agrupar piezas en bultos\")\n",
    "print(\"- Paquete: Para agrupar bultos con packing list\")\n",
    "print(\"- Tar: Para formularios de logística\")\n",
    "print(\"- Etiqueta: Para etiquetas de envío\")"
   ]
  },
  {
   "cell_type": "markdown",
   "id": "74b085fd",
   "metadata": {},
   "source": [
    "## 2. Crear y Gestionar Piezas\n",
    "\n",
    "Aquí puedes crear instancias de la clase `Pieza` con diferentes referencias, descripciones y proyectos."
   ]
  },
  {
   "cell_type": "code",
   "execution_count": 2,
   "id": "467ff292",
   "metadata": {},
   "outputs": [
    {
     "name": "stdout",
     "output_type": "stream",
     "text": [
      "🔧 Piezas creadas:\n",
      "Pieza: REF001 - Tornillo M8x20 (Proyecto: Proyecto Alpha)\n",
      "Pieza: REF002 - Tuerca M8 (Proyecto: Proyecto Alpha)\n",
      "Pieza: REF003 - Arandela plana M8 (Proyecto: Proyecto Beta)\n",
      "Pieza: REF004 - Perno hexagonal M10x30 (Proyecto: Proyecto Gamma)\n"
     ]
    }
   ],
   "source": [
    "# Crear varias piezas de ejemplo\n",
    "pieza1 = Pieza(\"REF001\", \"Tornillo M8x20\", \"Proyecto Alpha\")\n",
    "pieza2 = Pieza(\"REF002\", \"Tuerca M8\", \"Proyecto Alpha\")\n",
    "pieza3 = Pieza(\"REF003\", \"Arandela plana M8\", \"Proyecto Beta\")\n",
    "pieza4 = Pieza(\"REF004\", \"Perno hexagonal M10x30\", \"Proyecto Gamma\")\n",
    "\n",
    "# Mostrar las piezas creadas\n",
    "print(\"🔧 Piezas creadas:\")\n",
    "print(pieza1)\n",
    "print(pieza2)\n",
    "print(pieza3)\n",
    "print(pieza4)"
   ]
  },
  {
   "cell_type": "markdown",
   "id": "be4cf5dc",
   "metadata": {},
   "source": [
    "## 3. Trabajar con Ofertas e Items\n",
    "\n",
    "Crea instancias de `Oferta` y agrega objetos `ItemOferta`. Practica modificar precios, cantidades y calcular totales."
   ]
  },
  {
   "cell_type": "code",
   "execution_count": 10,
   "id": "9d1befdf",
   "metadata": {},
   "outputs": [
    {
     "name": "stdout",
     "output_type": "stream",
     "text": [
      "Pieza REF001 agregada a la oferta OF2025-001 con precio unitario €2.50 y cantidad 100\n",
      "Pieza REF002 agregada a la oferta OF2025-001 con precio unitario €1.75 y cantidad 50\n",
      "Pieza REF003 agregada a la oferta OF2025-001 con precio unitario €0.85 y cantidad 75\n",
      "\n",
      "============================================================\n",
      "Oferta OF2025-001 de Tornillería Suárez S.L. - Fecha: 2025-08-03\n",
      "REF001: Tornillo M8x20 - Precio unitario: €2.50, Cantidad: 100, Total: €250.00\n",
      "REF002: Tuerca M8 - Precio unitario: €1.75, Cantidad: 50, Total: €87.50\n",
      "REF003: Arandela plana M8 - Precio unitario: €0.85, Cantidad: 75, Total: €63.75\n",
      "Total oferta: €401.25\n",
      "============================================================\n"
     ]
    }
   ],
   "source": [
    "# Crear una oferta del proveedor\n",
    "oferta1 = Oferta(\n",
    "    numero_oferta=\"OF2025-001\",\n",
    "    proveedor=\"Tornillería Suárez S.L.\",\n",
    "    email_proveedor=\"pedidos@tornilleria-suarez.com\"\n",
    ")\n",
    "\n",
    "# Agregar piezas a la oferta con precios y cantidades\n",
    "oferta1.agregar_pieza(pieza1, precio_unitario=2.50, cantidad=100)\n",
    "oferta1.agregar_pieza(pieza2, precio_unitario=1.75, cantidad=50)\n",
    "oferta1.agregar_pieza(pieza3, precio_unitario=0.85, cantidad=75)\n",
    "\n",
    "print(\"\\n\" + \"=\"*60)\n",
    "oferta1.mostrar_oferta()\n",
    "print(\"=\"*60)"
   ]
  },
  {
   "cell_type": "code",
   "execution_count": 11,
   "id": "c8eb543d",
   "metadata": {},
   "outputs": [
    {
     "name": "stdout",
     "output_type": "stream",
     "text": [
      "🔄 Modificando la oferta...\n",
      "\n",
      "📊 Oferta actualizada:\n",
      "Oferta OF2025-001 de Tornillería Suárez S.L. - Fecha: 2025-08-03\n",
      "REF001: Tornillo M8x20 - Precio unitario: €2.50, Cantidad: 150, Total: €375.00\n",
      "REF002: Tuerca M8 - Precio unitario: €1.60, Cantidad: 50, Total: €80.00\n",
      "REF003: Arandela plana M8 - Precio unitario: €0.85, Cantidad: 75, Total: €63.75\n",
      "Total oferta: €518.75\n"
     ]
    }
   ],
   "source": [
    "# Modificar cantidades y precios en la oferta\n",
    "print(\"🔄 Modificando la oferta...\")\n",
    "oferta1.modificar_cantidad(pieza1, 150)  # Cambiar cantidad de tornillos\n",
    "oferta1.modificar_precio(pieza2, 1.60)   # Cambiar precio de tuercas\n",
    "\n",
    "print(\"\\n📊 Oferta actualizada:\")\n",
    "oferta1.mostrar_oferta()"
   ]
  },
  {
   "cell_type": "markdown",
   "id": "ea14c798",
   "metadata": {},
   "source": [
    "## 4. Crear y Gestionar Pedidos Eproc\n",
    "\n",
    "Crea instancias de `Eproc`, gestiona sus estados y valida campos obligatorios."
   ]
  },
  {
   "cell_type": "code",
   "execution_count": 12,
   "id": "b41ca6b1",
   "metadata": {},
   "outputs": [
    {
     "name": "stdout",
     "output_type": "stream",
     "text": [
      "Pieza REF001 agregada a la oferta OF2025-001 con precio unitario €2.50 y cantidad 150\n",
      "Pieza REF002 agregada a la oferta OF2025-001 con precio unitario €1.60 y cantidad 50\n",
      "Pieza REF003 agregada a la oferta OF2025-001 con precio unitario €0.85 y cantidad 75\n",
      "📋 Estado inicial del Eproc: Borrador\n",
      "💰 Total del pedido: €518.75\n",
      "\n",
      "🔄 Intentando avanzar estado...\n",
      "✅ Validación exitosa. Todos los campos obligatorios están completos.\n",
      "Estado cambiado a: Enviado_no_firmado\n",
      "📋 Estado actual: Enviado_no_firmado\n"
     ]
    }
   ],
   "source": [
    "# Crear un Eproc basado en la oferta\n",
    "eproc1 = Eproc(\n",
    "    numero_oferta=\"OF2025-001\",\n",
    "    proveedor=\"Tornillería Suárez S.L.\",\n",
    "    oi=123456.78,  # Número de cuenta OI\n",
    "    eproc_number=\"EP2025-001\"\n",
    ")\n",
    "\n",
    "# Agregar las mismas piezas de la oferta\n",
    "eproc1.agregar_pieza(pieza1, precio_unitario=2.50, cantidad=150)\n",
    "eproc1.agregar_pieza(pieza2, precio_unitario=1.60, cantidad=50)\n",
    "eproc1.agregar_pieza(pieza3, precio_unitario=0.85, cantidad=75)\n",
    "\n",
    "print(f\"📋 Estado inicial del Eproc: {eproc1.estado_actual}\")\n",
    "print(f\"💰 Total del pedido: €{eproc1.precio_total_oferta:.2f}\")\n",
    "\n",
    "# Intentar avanzar el estado\n",
    "print(\"\\n🔄 Intentando avanzar estado...\")\n",
    "eproc1.avanzar_estado()\n",
    "print(f\"📋 Estado actual: {eproc1.estado_actual}\")"
   ]
  },
  {
   "cell_type": "code",
   "execution_count": null,
   "id": "51b923a8",
   "metadata": {},
   "outputs": [],
   "source": [
    "# Avanzar al estado firmado y agregar PO\n",
    "print(\"🔄 Avanzando al estado firmado...\")\n",
    "eproc1.avanzar_estado()  # Enviado_firmado\n",
    "\n",
    "# Simular ingreso de PO (normalmente esto pediría input)\n",
    "eproc1.po_number = \"PO2025-001\"\n",
    "eproc1.po_pdf = \"/path/to/po_2025_001.pdf\"\n",
    "\n",
    "print(f\"✅ PO asignado: {eproc1.po_number}\")\n",
    "print(f\"📄 Archivo PO: {eproc1.po_pdf}\")\n",
    "print(f\"📋 Estado final: {eproc1.estado_actual}\")"
   ]
  },
  {
   "cell_type": "markdown",
   "id": "fb4b44c8",
   "metadata": {},
   "source": [
    "## 5. Gestionar Paquetes y Bultos\n",
    "\n",
    "Crea instancias de `Bulto` y organízalos en objetos `Paquete`."
   ]
  },
  {
   "cell_type": "code",
   "execution_count": null,
   "id": "c65594d5",
   "metadata": {},
   "outputs": [],
   "source": [
    "# Crear bultos para organizar las piezas\n",
    "bulto1 = Bulto(\"BULTO001\", \"Bulto de tornillería M8\", \"Proyecto Alpha\")\n",
    "bulto2 = Bulto(\"BULTO002\", \"Bulto de pernos M10\", \"Proyecto Gamma\")\n",
    "\n",
    "# Agregar piezas a los bultos\n",
    "bulto1.agregar_pieza(pieza1)  # Tornillos M8\n",
    "bulto1.agregar_pieza(pieza2)  # Tuercas M8\n",
    "bulto1.agregar_pieza(pieza3)  # Arandelas M8\n",
    "\n",
    "bulto2.agregar_pieza(pieza4)  # Pernos M10\n",
    "\n",
    "# Mostrar contenido de los bultos\n",
    "print(\"📦 Contenido de los bultos:\")\n",
    "bulto1.listar_piezas()\n",
    "print()\n",
    "bulto2.listar_piezas()"
   ]
  },
  {
   "cell_type": "code",
   "execution_count": null,
   "id": "92286b58",
   "metadata": {},
   "outputs": [],
   "source": [
    "# Crear paquetes con los bultos\n",
    "paquete1 = Paquete(\n",
    "    numero_paquete=\"PKG2025-001\",\n",
    "    bultos=[bulto1, bulto2],\n",
    "    packing_list_pdf=\"/path/to/packing_list_001.pdf\"\n",
    ")\n",
    "\n",
    "# Mostrar información del paquete\n",
    "print(\"📋 Información del paquete:\")\n",
    "paquete1.mostrar_informacion()"
   ]
  },
  {
   "cell_type": "markdown",
   "id": "88210155",
   "metadata": {},
   "source": [
    "## 6. Generar Documentos TAR\n",
    "\n",
    "Crea instancias de `TAR` desde pedidos Eproc completados y paquetes."
   ]
  },
  {
   "cell_type": "code",
   "execution_count": null,
   "id": "f1a2f9c3",
   "metadata": {},
   "outputs": [],
   "source": [
    "# Crear un TAR para el envío de etiquetas\n",
    "tar1 = Tar(\n",
    "    numero_tar=\"TAR2025-001\",\n",
    "    fecha_lanzamiento_tar=\"2025-08-03\",\n",
    "    eproc=eproc1,\n",
    "    paquetes=[paquete1],\n",
    "    persona_contacto=\"Juan Pérez\",\n",
    "    persona_logistica=\"María García\",\n",
    "    direccion_envio=\"Calle Industrial 123, Madrid, España\"\n",
    ")\n",
    "\n",
    "# Mostrar información completa del TAR\n",
    "tar1.mostrar_informacion()\n",
    "\n",
    "# Mostrar resumen\n",
    "tar1.mostrar_resumen()"
   ]
  },
  {
   "cell_type": "markdown",
   "id": "494c239d",
   "metadata": {},
   "source": [
    "## 7. Gestionar Etiquetas y Envíos\n",
    "\n",
    "Crea instancias de `Etiqueta` para bultos y simula el proceso de envío al proveedor."
   ]
  },
  {
   "cell_type": "code",
   "execution_count": null,
   "id": "52eb0d61",
   "metadata": {},
   "outputs": [],
   "source": [
    "# Crear etiquetas para cada bulto\n",
    "etiqueta1 = Etiqueta(\"ETQ001\", bulto1)\n",
    "etiqueta2 = Etiqueta(\"ETQ002\", bulto2)\n",
    "\n",
    "# Mostrar información de las etiquetas\n",
    "print(\"🏷️ Etiquetas creadas:\")\n",
    "etiqueta1.mostrar_informacion()\n",
    "print()\n",
    "etiqueta2.mostrar_informacion()\n",
    "\n",
    "print(\"\\n\" + \"=\"*50)\n",
    "\n",
    "# Simular envío de etiquetas al proveedor\n",
    "print(\"📧 Enviando etiquetas al proveedor...\")\n",
    "etiqueta1.enviar_etiqueta(oferta1)\n",
    "etiqueta2.enviar_etiqueta(oferta1)\n",
    "\n",
    "print(f\"\\n✅ Proceso completado!\")\n",
    "print(f\"📋 Estado TAR: {tar1.estado_tar}\")\n",
    "print(f\"🏷️ Etiquetas enviadas: {etiqueta1.estado_etiqueta}, {etiqueta2.estado_etiqueta}\")"
   ]
  },
  {
   "cell_type": "markdown",
   "id": "f734a8ba",
   "metadata": {},
   "source": [
    "## 🎯 Espacio de Experimentación\n",
    "\n",
    "Utiliza las celdas siguientes para crear tus propios objetos y experimentar con las clases:\n",
    "\n",
    "- Crea nuevas piezas con `Pieza(\"referencia\", \"descripcion\", \"proyecto\")`\n",
    "- Experimenta con ofertas usando `Oferta(\"numero\", \"proveedor\", email_proveedor=\"email\")`\n",
    "- Prueba el flujo completo desde oferta hasta etiquetas\n",
    "- Modifica estados, precios y cantidades según necesites\n",
    "\n",
    "¡Diviértete experimentando con el sistema de gestión de pedidos!"
   ]
  },
  {
   "cell_type": "code",
   "execution_count": null,
   "id": "a20421ae",
   "metadata": {},
   "outputs": [],
   "source": [
    "# 🧪 Celda de experimentación libre\n",
    "# Aquí puedes crear tus propios objetos y probar funcionalidades\n",
    "\n",
    "# Ejemplo: crear tu propia pieza\n",
    "# mi_pieza = Pieza(\"REF005\", \"Mi descripción\", \"Mi proyecto\")\n",
    "# print(mi_pieza)\n",
    "\n",
    "# Tu código aquí:\n"
   ]
  }
 ],
 "metadata": {
  "kernelspec": {
   "display_name": "Python 3",
   "language": "python",
   "name": "python3"
  },
  "language_info": {
   "codemirror_mode": {
    "name": "ipython",
    "version": 3
   },
   "file_extension": ".py",
   "mimetype": "text/x-python",
   "name": "python",
   "nbconvert_exporter": "python",
   "pygments_lexer": "ipython3",
   "version": "3.10.12"
  }
 },
 "nbformat": 4,
 "nbformat_minor": 5
}
